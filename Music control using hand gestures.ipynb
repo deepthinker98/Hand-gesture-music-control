{
 "cells": [
  {
   "cell_type": "code",
   "execution_count": null,
   "metadata": {},
   "outputs": [],
   "source": [
    "import cv2\n",
    "import numpy as np\n",
    "import os\n",
    "# import pyglet\n",
    "# import pygame\n",
    "import winsound"
   ]
  },
  {
   "cell_type": "code",
   "execution_count": null,
   "metadata": {},
   "outputs": [],
   "source": [
    "# player = pyglet.media.Player()\n",
    "# source = pyglet.media.load('Lakshya.wav',streaming=False)\n",
    "# player.queue(source)\n",
    "# player.play()\n",
    "# player.volume=0.8"
   ]
  },
  {
   "cell_type": "code",
   "execution_count": null,
   "metadata": {},
   "outputs": [],
   "source": [
    "count_c = 0\n",
    "count_o = 0\n",
    "o_count = 0\n",
    "c_count = 0"
   ]
  },
  {
   "cell_type": "code",
   "execution_count": null,
   "metadata": {},
   "outputs": [],
   "source": [
    "face_cas = cv2.CascadeClassifier('haarcascade_frontalface_default.xml')\n",
    "eye_cas = cv2.CascadeClassifier('haarcascade_eye.xml')\n",
    "open_palm_cas = cv2.CascadeClassifier('open_palm.xml')\n",
    "closed_palm_cas = cv2.CascadeClassifier('closed_palm.xml')"
   ]
  },
  {
   "cell_type": "code",
   "execution_count": null,
   "metadata": {},
   "outputs": [],
   "source": [
    "cap = cv2.VideoCapture(cv2.CAP_DSHOW)"
   ]
  },
  {
   "cell_type": "code",
   "execution_count": null,
   "metadata": {},
   "outputs": [],
   "source": [
    "while True:\n",
    "    ret, frame = cap.read()\n",
    "    gray = cv2.cvtColor(frame,cv2.COLOR_BGR2GRAY)\n",
    "\n",
    "    palm_o = open_palm_cas.detectMultiScale(gray,1.3,5)\n",
    "    for (x,y,w,h) in palm_o:\n",
    "        cv2.rectangle(frame, (x,y), (x+w,y+h), (0,255,0), 2)\n",
    "    if len(palm_o)>0:\n",
    "        count_o += 1\n",
    "\n",
    "    palm_c = closed_palm_cas.detectMultiScale(gray,1.3,5)\n",
    "    for (x,y,w,h) in palm_c:\n",
    "        cv2.rectangle(frame, (x,y), (x+w,y+h), (255,0,0), 2)\n",
    "    if len(palm_c)>0:\n",
    "        count_c += 1\n",
    "\n",
    "    cv2.imshow('Image', frame)\n",
    "    k = cv2.waitKey(1) & 0xFF\n",
    "\n",
    "    if k == 27 or count_c == 10 or count_o == 10:\n",
    "        break"
   ]
  },
  {
   "cell_type": "code",
   "execution_count": null,
   "metadata": {},
   "outputs": [],
   "source": [
    "cap.release()\n",
    "cv2.destroyAllWindows()"
   ]
  },
  {
   "cell_type": "code",
   "execution_count": null,
   "metadata": {},
   "outputs": [],
   "source": [
    "cap = cv2.VideoCapture(0)"
   ]
  },
  {
   "cell_type": "code",
   "execution_count": null,
   "metadata": {},
   "outputs": [],
   "source": [
    "while True:\n",
    "    ret, frame = cap.read()\n",
    "    gray = cv2.cvtColor(frame,cv2.COLOR_BGR2GRAY)\n",
    "\n",
    "    o_palm = open_palm_cas.detectMultiScale(gray, 1.3, 5)\n",
    "    for (x,y,w,h) in o_palm:\n",
    "        cv2.rectangle(frame, (x,y), (x+w,y+h), (0,255,0), 2)\n",
    "    if len(o_palm)>0:\n",
    "        o_count += 1\n",
    "\n",
    "    c_palm = closed_palm_cas.detectMultiScale(gray, 1.3, 5)\n",
    "    for (x,y,w,h) in c_palm:\n",
    "        cv2.rectangle(frame, (x,y), (x+w,y+h), (255,0,0), 2)\n",
    "    if len(c_palm)>0:\n",
    "        c_count += 1\n",
    "\n",
    "    cv2.imshow('Image2',frame)\n",
    "    k = cv2.waitKey(1) & 0xFF\n",
    "\n",
    "    if k == 27 or o_count == 10 or c_count == 10:\n",
    "        break"
   ]
  },
  {
   "cell_type": "code",
   "execution_count": null,
   "metadata": {},
   "outputs": [],
   "source": [
    "cap.release()\n",
    "cv2.destroyAllWindows()"
   ]
  },
  {
   "cell_type": "code",
   "execution_count": null,
   "metadata": {},
   "outputs": [],
   "source": [
    "def const():\n",
    "    print(\"Brightness will remain constant !!\")\n",
    "\n",
    "def inc():\n",
    "    winsound.PlaySound(\"Lakshya.wav\",winsound.SND_ALIAS)\n",
    "    #print('Inc')\n",
    "\n",
    "def dec():\n",
    "    winsound.PlaySound(\"IMA_Song.wav\",winsound.SND_ALIAS)\n",
    "    #print('Dec')"
   ]
  },
  {
   "cell_type": "code",
   "execution_count": null,
   "metadata": {},
   "outputs": [],
   "source": [
    "if count_c == 10 and o_count == 10:\n",
    "    inc()\n",
    "elif count_o == 10 and c_count == 10:\n",
    "    dec()\n",
    "else:\n",
    "    const()"
   ]
  }
 ],
 "metadata": {
  "kernelspec": {
   "display_name": "Python 3",
   "language": "python",
   "name": "python3"
  },
  "language_info": {
   "codemirror_mode": {
    "name": "ipython",
    "version": 3
   },
   "file_extension": ".py",
   "mimetype": "text/x-python",
   "name": "python",
   "nbconvert_exporter": "python",
   "pygments_lexer": "ipython3",
   "version": "3.6.4"
  }
 },
 "nbformat": 4,
 "nbformat_minor": 2
}
